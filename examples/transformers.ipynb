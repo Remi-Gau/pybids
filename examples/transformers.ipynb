{
 "cells": [
  {
   "cell_type": "code",
   "execution_count": 20,
   "id": "04fd72d4-045b-4584-8093-ec9329a8f147",
   "metadata": {},
   "outputs": [],
   "source": [
    "from bids.modeling import transformations as transform\n",
    "from bids.variables import SparseRunVariable, DenseRunVariable\n",
    "from bids.variables.entities import RunInfo\n",
    "from bids.variables.collections import BIDSRunVariableCollection\n",
    "from bids.layout import BIDSLayout\n",
    "import math\n",
    "from os.path import join, sep\n",
    "from bids.tests import get_test_data_path\n",
    "import numpy as np\n",
    "import pandas as pd"
   ]
  },
  {
   "cell_type": "code",
   "execution_count": 22,
   "id": "69af68a0-8aef-4076-9c51-5156e9ee3be2",
   "metadata": {},
   "outputs": [
    {
     "name": "stderr",
     "output_type": "stream",
     "text": [
      "/home/remi/github/pybids/bids/layout/models.py:159: SAWarning: Dialect sqlite:pysqlite will not make use of SQL compilation caching as it does not set the 'supports_statement_cache' attribute to ``True``.  This can have significant performance implications including some performance degradations in comparison to prior SQLAlchemy versions.  Dialect maintainers should seek to set this attribute to True after appropriate development and testing for SQLAlchemy 1.4 caching support.   Alternatively, this attribute may be set to False which will disable this warning. (Background on this error at: https://sqlalche.me/e/14/cprf)\n",
      "  result = session.query(Config).filter_by(name=config['name']).first()\n",
      "/home/remi/github/pybids/bids/variables/entities.py:245: FutureWarning: The frame.append method is deprecated and will be removed from pandas in a future version. Use pandas.concat instead.\n",
      "  self.index = self.index.append(node_row, ignore_index=True)\n",
      "/home/remi/github/pybids/bids/variables/entities.py:245: FutureWarning: The frame.append method is deprecated and will be removed from pandas in a future version. Use pandas.concat instead.\n",
      "  self.index = self.index.append(node_row, ignore_index=True)\n",
      "/home/remi/github/pybids/bids/variables/entities.py:245: FutureWarning: The frame.append method is deprecated and will be removed from pandas in a future version. Use pandas.concat instead.\n",
      "  self.index = self.index.append(node_row, ignore_index=True)\n",
      "/home/remi/github/pybids/bids/variables/entities.py:245: FutureWarning: The frame.append method is deprecated and will be removed from pandas in a future version. Use pandas.concat instead.\n",
      "  self.index = self.index.append(node_row, ignore_index=True)\n",
      "/home/remi/github/pybids/bids/variables/entities.py:245: FutureWarning: The frame.append method is deprecated and will be removed from pandas in a future version. Use pandas.concat instead.\n",
      "  self.index = self.index.append(node_row, ignore_index=True)\n",
      "/home/remi/github/pybids/bids/variables/entities.py:245: FutureWarning: The frame.append method is deprecated and will be removed from pandas in a future version. Use pandas.concat instead.\n",
      "  self.index = self.index.append(node_row, ignore_index=True)\n"
     ]
    }
   ],
   "source": [
    "SUBJECTS = ['01', '02']\n",
    "NRUNS = 3\n",
    "SCAN_LENGTH = 480\n",
    "\n",
    "cached_collections = {}\n",
    "\n",
    "if 'ds005' not in cached_collections:\n",
    "    layout_path = join(get_test_data_path(), 'ds005')\n",
    "    layout = BIDSLayout(layout_path)\n",
    "    cached_collections['ds005'] = layout.get_collections(\n",
    "        'run',\n",
    "        types=['events'],\n",
    "        scan_length=SCAN_LENGTH,\n",
    "        merge=True,\n",
    "        sampling_rate=10,\n",
    "        subject=SUBJECTS\n",
    "    )\n",
    "    \n",
    "collection = cached_collections['ds005'].clone()"
   ]
  },
  {
   "cell_type": "code",
   "execution_count": 23,
   "id": "3a233fc7-b44a-40f6-b4ea-cd0ccf9fa594",
   "metadata": {},
   "outputs": [
    {
     "data": {
      "text/plain": [
       "{'parametric gain': <bids.variables.variables.SparseRunVariable at 0x7f2e86133a00>,\n",
       " 'trial_type': <bids.variables.variables.SparseRunVariable at 0x7f2e83e668b0>,\n",
       " 'loss': <bids.variables.variables.SparseRunVariable at 0x7f2e853f59d0>,\n",
       " 'PTval': <bids.variables.variables.SparseRunVariable at 0x7f2e83e0da00>,\n",
       " 'respcat': <bids.variables.variables.SparseRunVariable at 0x7f2e83e0d7f0>,\n",
       " 'gain': <bids.variables.variables.SparseRunVariable at 0x7f2e83e53310>,\n",
       " 'RT': <bids.variables.variables.SparseRunVariable at 0x7f2e83e3ca60>,\n",
       " 'respnum': <bids.variables.variables.SparseRunVariable at 0x7f2e83e3c6a0>}"
      ]
     },
     "execution_count": 23,
     "metadata": {},
     "output_type": "execute_result"
    }
   ],
   "source": [
    "collection.variables"
   ]
  },
  {
   "cell_type": "code",
   "execution_count": 24,
   "id": "7b6469bc-8aff-49f1-a107-e719e4762ff2",
   "metadata": {},
   "outputs": [
    {
     "ename": "ValueError",
     "evalue": "No variable named 'RT' found in this collection. Available names are ['parametric gain', 'trial_type', 'loss', 'PTval', 'respcat', 'gain', 'respnum', 'reaction_time'].",
     "output_type": "error",
     "traceback": [
      "\u001b[0;31m---------------------------------------------------------------------------\u001b[0m",
      "\u001b[0;31mValueError\u001b[0m                                Traceback (most recent call last)",
      "Input \u001b[0;32mIn [24]\u001b[0m, in \u001b[0;36m<module>\u001b[0;34m\u001b[0m\n\u001b[1;32m      1\u001b[0m dense_rt \u001b[38;5;241m=\u001b[39m collection\u001b[38;5;241m.\u001b[39mvariables[\u001b[38;5;124m'\u001b[39m\u001b[38;5;124mRT\u001b[39m\u001b[38;5;124m'\u001b[39m]\u001b[38;5;241m.\u001b[39mto_dense(collection\u001b[38;5;241m.\u001b[39msampling_rate)\n\u001b[1;32m      2\u001b[0m \u001b[38;5;28;01massert\u001b[39;00m \u001b[38;5;28mlen\u001b[39m(dense_rt\u001b[38;5;241m.\u001b[39mvalues) \u001b[38;5;241m==\u001b[39m math\u001b[38;5;241m.\u001b[39mceil(\u001b[38;5;28mlen\u001b[39m(SUBJECTS) \u001b[38;5;241m*\u001b[39m NRUNS \u001b[38;5;241m*\u001b[39m SCAN_LENGTH \u001b[38;5;241m*\u001b[39m collection\u001b[38;5;241m.\u001b[39msampling_rate)\n\u001b[0;32m----> 3\u001b[0m \u001b[43mtransform\u001b[49m\u001b[38;5;241;43m.\u001b[39;49m\u001b[43mRename\u001b[49m\u001b[43m(\u001b[49m\u001b[43mcollections\u001b[49m\u001b[43m,\u001b[49m\u001b[43m \u001b[49m\u001b[38;5;124;43m'\u001b[39;49m\u001b[38;5;124;43mRT\u001b[39;49m\u001b[38;5;124;43m'\u001b[39;49m\u001b[43m,\u001b[49m\u001b[43m \u001b[49m\u001b[43moutput\u001b[49m\u001b[38;5;241;43m=\u001b[39;49m\u001b[38;5;124;43m'\u001b[39;49m\u001b[38;5;124;43mreaction_time\u001b[39;49m\u001b[38;5;124;43m'\u001b[39;49m\u001b[43m)\u001b[49m\n\u001b[1;32m      4\u001b[0m \u001b[38;5;28;01massert\u001b[39;00m \u001b[38;5;124m'\u001b[39m\u001b[38;5;124mreaction_time\u001b[39m\u001b[38;5;124m'\u001b[39m \u001b[38;5;129;01min\u001b[39;00m collection\u001b[38;5;241m.\u001b[39mvariables\n\u001b[1;32m      5\u001b[0m \u001b[38;5;28;01massert\u001b[39;00m \u001b[38;5;124m'\u001b[39m\u001b[38;5;124mRT\u001b[39m\u001b[38;5;124m'\u001b[39m \u001b[38;5;129;01mnot\u001b[39;00m \u001b[38;5;129;01min\u001b[39;00m collection\u001b[38;5;241m.\u001b[39mvariables\n",
      "File \u001b[0;32m~/github/pybids/bids/modeling/transformations/base.py:97\u001b[0m, in \u001b[0;36mTransformation.__new__\u001b[0;34m(cls, collection, variables, *args, **kwargs)\u001b[0m\n\u001b[1;32m     95\u001b[0m t \u001b[38;5;241m=\u001b[39m \u001b[38;5;28msuper\u001b[39m(Transformation, \u001b[38;5;28mcls\u001b[39m)\u001b[38;5;241m.\u001b[39m\u001b[38;5;21m__new__\u001b[39m(\u001b[38;5;28mcls\u001b[39m)\n\u001b[1;32m     96\u001b[0m t\u001b[38;5;241m.\u001b[39m_setup(collection, variables, \u001b[38;5;241m*\u001b[39margs, \u001b[38;5;241m*\u001b[39m\u001b[38;5;241m*\u001b[39mkwargs)\n\u001b[0;32m---> 97\u001b[0m \u001b[38;5;28;01mreturn\u001b[39;00m \u001b[43mt\u001b[49m\u001b[38;5;241;43m.\u001b[39;49m\u001b[43mtransform\u001b[49m\u001b[43m(\u001b[49m\u001b[43m)\u001b[49m\n",
      "File \u001b[0;32m~/github/pybids/bids/modeling/transformations/base.py:233\u001b[0m, in \u001b[0;36mTransformation.transform\u001b[0;34m(self)\u001b[0m\n\u001b[1;32m    230\u001b[0m kwargs \u001b[38;5;241m=\u001b[39m \u001b[38;5;28mself\u001b[39m\u001b[38;5;241m.\u001b[39mkwargs\n\u001b[1;32m    232\u001b[0m \u001b[38;5;66;03m# Deep copy all variables we expect to touch\u001b[39;00m\n\u001b[0;32m--> 233\u001b[0m \u001b[38;5;28;43mself\u001b[39;49m\u001b[38;5;241;43m.\u001b[39;49m\u001b[43m_clone_variables\u001b[49m\u001b[43m(\u001b[49m\u001b[43m)\u001b[49m\n\u001b[1;32m    235\u001b[0m \u001b[38;5;66;03m# Make sure we don't have categorical variables we can't handle\u001b[39;00m\n\u001b[1;32m    236\u001b[0m \u001b[38;5;28mself\u001b[39m\u001b[38;5;241m.\u001b[39m_check_categorical_variables()\n",
      "File \u001b[0;32m~/github/pybids/bids/modeling/transformations/base.py:165\u001b[0m, in \u001b[0;36mTransformation._clone_variables\u001b[0;34m(self)\u001b[0m\n\u001b[1;32m    161\u001b[0m \u001b[38;5;124;03m\"\"\"Deep copy all variables the transformation touches. This prevents us\u001b[39;00m\n\u001b[1;32m    162\u001b[0m \u001b[38;5;124;03mfrom unnecessarily overwriting existing variables. \"\"\"\u001b[39;00m\n\u001b[1;32m    164\u001b[0m \u001b[38;5;66;03m# Always clone the target variables\u001b[39;00m\n\u001b[0;32m--> 165\u001b[0m \u001b[38;5;28mself\u001b[39m\u001b[38;5;241m.\u001b[39m_variables \u001b[38;5;241m=\u001b[39m {v: \u001b[38;5;28mself\u001b[39m\u001b[38;5;241m.\u001b[39mcollection[v]\u001b[38;5;241m.\u001b[39mclone()\n\u001b[1;32m    166\u001b[0m                    \u001b[38;5;28;01mfor\u001b[39;00m v \u001b[38;5;129;01min\u001b[39;00m \u001b[38;5;28mself\u001b[39m\u001b[38;5;241m.\u001b[39mvariables}\n\u001b[1;32m    168\u001b[0m \u001b[38;5;28;01mif\u001b[39;00m \u001b[38;5;129;01mnot\u001b[39;00m \u001b[38;5;28mself\u001b[39m\u001b[38;5;241m.\u001b[39m_variables_used:\n\u001b[1;32m    169\u001b[0m     \u001b[38;5;28;01mreturn\u001b[39;00m\n",
      "File \u001b[0;32m~/github/pybids/bids/modeling/transformations/base.py:165\u001b[0m, in \u001b[0;36m<dictcomp>\u001b[0;34m(.0)\u001b[0m\n\u001b[1;32m    161\u001b[0m \u001b[38;5;124;03m\"\"\"Deep copy all variables the transformation touches. This prevents us\u001b[39;00m\n\u001b[1;32m    162\u001b[0m \u001b[38;5;124;03mfrom unnecessarily overwriting existing variables. \"\"\"\u001b[39;00m\n\u001b[1;32m    164\u001b[0m \u001b[38;5;66;03m# Always clone the target variables\u001b[39;00m\n\u001b[0;32m--> 165\u001b[0m \u001b[38;5;28mself\u001b[39m\u001b[38;5;241m.\u001b[39m_variables \u001b[38;5;241m=\u001b[39m {v: \u001b[38;5;28;43mself\u001b[39;49m\u001b[38;5;241;43m.\u001b[39;49m\u001b[43mcollection\u001b[49m\u001b[43m[\u001b[49m\u001b[43mv\u001b[49m\u001b[43m]\u001b[49m\u001b[38;5;241m.\u001b[39mclone()\n\u001b[1;32m    166\u001b[0m                    \u001b[38;5;28;01mfor\u001b[39;00m v \u001b[38;5;129;01min\u001b[39;00m \u001b[38;5;28mself\u001b[39m\u001b[38;5;241m.\u001b[39mvariables}\n\u001b[1;32m    168\u001b[0m \u001b[38;5;28;01mif\u001b[39;00m \u001b[38;5;129;01mnot\u001b[39;00m \u001b[38;5;28mself\u001b[39m\u001b[38;5;241m.\u001b[39m_variables_used:\n\u001b[1;32m    169\u001b[0m     \u001b[38;5;28;01mreturn\u001b[39;00m\n",
      "File \u001b[0;32m~/github/pybids/bids/variables/collections.py:256\u001b[0m, in \u001b[0;36mBIDSVariableCollection.__getitem__\u001b[0;34m(self, var)\u001b[0m\n\u001b[1;32m    254\u001b[0m     \u001b[38;5;28;01mreturn\u001b[39;00m \u001b[38;5;28mself\u001b[39m\u001b[38;5;241m.\u001b[39mvariables[var]\n\u001b[1;32m    255\u001b[0m keys \u001b[38;5;241m=\u001b[39m \u001b[38;5;28mlist\u001b[39m(\u001b[38;5;28mself\u001b[39m\u001b[38;5;241m.\u001b[39mvariables\u001b[38;5;241m.\u001b[39mkeys())\n\u001b[0;32m--> 256\u001b[0m \u001b[38;5;28;01mraise\u001b[39;00m \u001b[38;5;167;01mValueError\u001b[39;00m(\n\u001b[1;32m    257\u001b[0m     \u001b[38;5;124m\"\u001b[39m\u001b[38;5;124mNo variable named \u001b[39m\u001b[38;5;124m'\u001b[39m\u001b[38;5;132;01m{}\u001b[39;00m\u001b[38;5;124m'\u001b[39m\u001b[38;5;124m found in this collection. \u001b[39m\u001b[38;5;124m\"\u001b[39m\n\u001b[1;32m    258\u001b[0m     \u001b[38;5;124m\"\u001b[39m\u001b[38;5;124mAvailable names are \u001b[39m\u001b[38;5;132;01m{}\u001b[39;00m\u001b[38;5;124m.\u001b[39m\u001b[38;5;124m\"\u001b[39m\u001b[38;5;241m.\u001b[39mformat(var, keys)\n\u001b[1;32m    259\u001b[0m )\n",
      "\u001b[0;31mValueError\u001b[0m: No variable named 'RT' found in this collection. Available names are ['parametric gain', 'trial_type', 'loss', 'PTval', 'respcat', 'gain', 'respnum', 'reaction_time']."
     ]
    }
   ],
   "source": [
    "dense_rt = collection.variables['RT'].to_dense(collection.sampling_rate)\n",
    "assert len(dense_rt.values) == math.ceil(len(SUBJECTS) * NRUNS * SCAN_LENGTH * collection.sampling_rate)\n",
    "transform.Rename(collections, 'RT', output='reaction_time')\n",
    "assert 'reaction_time' in collection.variables\n",
    "assert 'RT' not in collection.variables\n",
    "col = collection.variables['reaction_time']\n",
    "assert col.name == 'reaction_time'\n",
    "assert col.onset.max() == 476"
   ]
  },
  {
   "cell_type": "code",
   "execution_count": 25,
   "id": "bdb696eb-f2e3-49f7-9e02-bb083fd48c8f",
   "metadata": {},
   "outputs": [
    {
     "name": "stderr",
     "output_type": "stream",
     "text": [
      "/home/remi/github/pybids/bids/variables/variables.py:409: UserWarning: The onset time of a variable seems to exceed the runs duration, hence runs are incremented by one internally.\n",
      "  warnings.warn(\"The onset time of a variable seems to exceed \"\n"
     ]
    }
   ],
   "source": [
    "data = pd.DataFrame({\n",
    "    'onset': [10, 20],\n",
    "    'duration': [0, 0],\n",
    "    'amplitude': [1, 1]\n",
    "})\n",
    "run_info = [RunInfo({'subject': '01'}, 20, 2, 'dummy.nii.gz', 10)]\n",
    "var = SparseRunVariable(\n",
    "    name='var', data=data, run_info=run_info, source='events')\n",
    "coll = BIDSRunVariableCollection([var])\n",
    "transform.ToDense(coll, 'var', output='var_dense')\n",
    "transform.Convolve(coll, 'var', output='var_hrf')\n",
    "transform.Convolve(coll, 'var_dense', output='var_dense_hrf')"
   ]
  },
  {
   "cell_type": "code",
   "execution_count": 26,
   "id": "0b1451c0-c736-42b4-9a5d-5a7de865795d",
   "metadata": {},
   "outputs": [],
   "source": [
    "c = collection\n",
    "transform.Sum(\n",
    "    collection, variables=['parametric gain', 'gain'], output='sum')\n",
    "res = c['sum'].values\n",
    "target = c['parametric gain'].values + c['gain'].values\n",
    "assert np.array_equal(res, target)\n",
    "transform.Sum(\n",
    "    collection,\n",
    "    variables=['parametric gain', 'gain'], output='sum', weights=[2, 2])\n",
    "assert np.array_equal(c['sum'].values, target * 2)"
   ]
  }
 ],
 "metadata": {
  "kernelspec": {
   "display_name": "Python 3",
   "language": "python",
   "name": "python3"
  },
  "language_info": {
   "codemirror_mode": {
    "name": "ipython",
    "version": 3
   },
   "file_extension": ".py",
   "mimetype": "text/x-python",
   "name": "python",
   "nbconvert_exporter": "python",
   "pygments_lexer": "ipython3",
   "version": "3.8.0"
  }
 },
 "nbformat": 4,
 "nbformat_minor": 5
}
