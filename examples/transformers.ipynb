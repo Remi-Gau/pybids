{
 "cells": [
  {
   "cell_type": "markdown",
   "id": "50112d8f",
   "metadata": {},
   "source": [
    "# Pybids transformers and generating BIDS stats models\n",
    "\n",
    "Adapted from the slides made by Jeanette Mumford:\n",
    "https://docs.google.com/presentation/d/1Bsfx9K4jz-YveUA4JpmqK-s1LnFNqFaGemEDbgFBoOc/edit#slide=id.g1269976e58a_0_85"
   ]
  },
  {
   "cell_type": "code",
   "execution_count": 1,
   "id": "aaab93e1",
   "metadata": {},
   "outputs": [],
   "source": [
    "%load_ext autoreload\n",
    "%autoreload 2"
   ]
  },
  {
   "cell_type": "code",
   "execution_count": 2,
   "id": "2fd5441a",
   "metadata": {
    "tags": []
   },
   "outputs": [],
   "source": [
    "import pandas as pd\n",
    "from os.path import join\n",
    "from bids import BIDSLayout\n",
    "from bids.tests import get_test_data_path"
   ]
  },
  {
   "cell_type": "code",
   "execution_count": 3,
   "id": "8ac03ac2",
   "metadata": {},
   "outputs": [
    {
     "data": {
      "text/html": [
       "<div>\n",
       "<style scoped>\n",
       "    .dataframe tbody tr th:only-of-type {\n",
       "        vertical-align: middle;\n",
       "    }\n",
       "\n",
       "    .dataframe tbody tr th {\n",
       "        vertical-align: top;\n",
       "    }\n",
       "\n",
       "    .dataframe thead th {\n",
       "        text-align: right;\n",
       "    }\n",
       "</style>\n",
       "<table border=\"1\" class=\"dataframe\">\n",
       "  <thead>\n",
       "    <tr style=\"text-align: right;\">\n",
       "      <th></th>\n",
       "      <th>particiant_id</th>\n",
       "      <th>sex</th>\n",
       "      <th>age</th>\n",
       "    </tr>\n",
       "  </thead>\n",
       "  <tbody>\n",
       "    <tr>\n",
       "      <th>0</th>\n",
       "      <td>sub-01</td>\n",
       "      <td>M</td>\n",
       "      <td>25</td>\n",
       "    </tr>\n",
       "    <tr>\n",
       "      <th>1</th>\n",
       "      <td>sub-02</td>\n",
       "      <td>M</td>\n",
       "      <td>18</td>\n",
       "    </tr>\n",
       "    <tr>\n",
       "      <th>2</th>\n",
       "      <td>sub-03</td>\n",
       "      <td>F</td>\n",
       "      <td>22</td>\n",
       "    </tr>\n",
       "    <tr>\n",
       "      <th>3</th>\n",
       "      <td>sub-04</td>\n",
       "      <td>F</td>\n",
       "      <td>25</td>\n",
       "    </tr>\n",
       "  </tbody>\n",
       "</table>\n",
       "</div>"
      ],
      "text/plain": [
       "  particiant_id sex  age\n",
       "0        sub-01   M   25\n",
       "1        sub-02   M   18\n",
       "2        sub-03   F   22\n",
       "3        sub-04   F   25"
      ]
     },
     "execution_count": 3,
     "metadata": {},
     "output_type": "execute_result"
    }
   ],
   "source": [
    "dataset = pd.DataFrame({\n",
    "    \"particiant_id\": [\"sub-01\", \"sub-02\", \"sub-03\", \"sub-04\",],\n",
    "    \"sex\": [\"M\", \"M\", \"F\", \"F\"],\n",
    "    \"age\": [25, 18, 22, 25]\n",
    "})\n",
    "dataset"
   ]
  },
  {
   "cell_type": "code",
   "execution_count": 4,
   "id": "e679b3d9",
   "metadata": {},
   "outputs": [
    {
     "data": {
      "text/html": [
       "<div>\n",
       "<style scoped>\n",
       "    .dataframe tbody tr th:only-of-type {\n",
       "        vertical-align: middle;\n",
       "    }\n",
       "\n",
       "    .dataframe tbody tr th {\n",
       "        vertical-align: top;\n",
       "    }\n",
       "\n",
       "    .dataframe thead th {\n",
       "        text-align: right;\n",
       "    }\n",
       "</style>\n",
       "<table border=\"1\" class=\"dataframe\">\n",
       "  <thead>\n",
       "    <tr style=\"text-align: right;\">\n",
       "      <th></th>\n",
       "      <th>onset</th>\n",
       "      <th>duration</th>\n",
       "      <th>trial_type</th>\n",
       "      <th>rt_pretend</th>\n",
       "    </tr>\n",
       "  </thead>\n",
       "  <tbody>\n",
       "    <tr>\n",
       "      <th>0</th>\n",
       "      <td>20.0</td>\n",
       "      <td>2</td>\n",
       "      <td>word</td>\n",
       "      <td>0.50</td>\n",
       "    </tr>\n",
       "    <tr>\n",
       "      <th>1</th>\n",
       "      <td>37.5</td>\n",
       "      <td>2</td>\n",
       "      <td>word</td>\n",
       "      <td>0.60</td>\n",
       "    </tr>\n",
       "    <tr>\n",
       "      <th>2</th>\n",
       "      <td>60.0</td>\n",
       "      <td>2</td>\n",
       "      <td>word</td>\n",
       "      <td>0.55</td>\n",
       "    </tr>\n",
       "    <tr>\n",
       "      <th>3</th>\n",
       "      <td>180.0</td>\n",
       "      <td>2</td>\n",
       "      <td>pseudoword</td>\n",
       "      <td>0.50</td>\n",
       "    </tr>\n",
       "    <tr>\n",
       "      <th>4</th>\n",
       "      <td>182.5</td>\n",
       "      <td>2</td>\n",
       "      <td>pseudoword</td>\n",
       "      <td>0.70</td>\n",
       "    </tr>\n",
       "    <tr>\n",
       "      <th>5</th>\n",
       "      <td>230.0</td>\n",
       "      <td>2</td>\n",
       "      <td>pseudoword</td>\n",
       "      <td>0.80</td>\n",
       "    </tr>\n",
       "  </tbody>\n",
       "</table>\n",
       "</div>"
      ],
      "text/plain": [
       "   onset  duration  trial_type  rt_pretend\n",
       "0   20.0         2        word        0.50\n",
       "1   37.5         2        word        0.60\n",
       "2   60.0         2        word        0.55\n",
       "3  180.0         2  pseudoword        0.50\n",
       "4  182.5         2  pseudoword        0.70\n",
       "5  230.0         2  pseudoword        0.80"
      ]
     },
     "execution_count": 4,
     "metadata": {},
     "output_type": "execute_result"
    }
   ],
   "source": [
    "run = pd.DataFrame({\n",
    "    \"onset\": [20, 37.5, 60, 180, 182.5, 230],\n",
    "    \"duration\": [2, 2, 2, 2, 2, 2],\n",
    "    \"trial_type\": [\"word\", \"word\", \"word\", \"pseudoword\", \"pseudoword\", \"pseudoword\"],\n",
    "    \"rt_pretend\": [0.5, 0.6, 0.55, 0.5, 0.7, 0.8],\n",
    "})\n",
    "run"
   ]
  },
  {
   "cell_type": "markdown",
   "id": "1341f9fc-bee9-4a0a-b3d3-713a0c210514",
   "metadata": {},
   "source": [
    "Add amplitude as it seems necessary"
   ]
  },
  {
   "cell_type": "code",
   "execution_count": 5,
   "id": "47126ba1-6f34-4218-bc29-14d27728eca1",
   "metadata": {},
   "outputs": [
    {
     "name": "stdout",
     "output_type": "stream",
     "text": [
      "   onset  duration  trial_type  rt_pretend  amplitude\n",
      "0   20.0         2        word        0.50          1\n",
      "1   37.5         2        word        0.60          1\n",
      "2   60.0         2        word        0.55          1\n",
      "3  180.0         2  pseudoword        0.50          1\n",
      "4  182.5         2  pseudoword        0.70          1\n",
      "5  230.0         2  pseudoword        0.80          1\n"
     ]
    }
   ],
   "source": [
    "run[\"amplitude\"] = [1, 1, 1, 1, 1, 1]\n",
    "print(run)"
   ]
  },
  {
   "cell_type": "markdown",
   "id": "c28c8d10-fa9d-4903-8a89-edfa2bafaae8",
   "metadata": {},
   "source": [
    "Tryng to manually convert to this to a collection...\n",
    "\n",
    "But do we need all of this or can is there a moe light weight version?\n",
    "\n",
    "**Also how do you do it on dataset level stuff?**"
   ]
  },
  {
   "cell_type": "code",
   "execution_count": 6,
   "id": "cec18ee3-ed59-4634-b83c-5dac63b7aba2",
   "metadata": {},
   "outputs": [
    {
     "name": "stdout",
     "output_type": "stream",
     "text": [
      "[RunInfo(entities={'subject': '01'}, duration=600, tr=2, image='dummy.nii.gz', n_vols=300)]\n",
      "<bids.variables.collections.BIDSRunVariableCollection object at 0x7f8add1142e0>\n"
     ]
    }
   ],
   "source": [
    "from bids.variables import SparseRunVariable\n",
    "from bids.variables.entities import RunInfo\n",
    "from bids.variables.collections import BIDSRunVariableCollection, BIDSVariableCollection\n",
    "import numpy as np\n",
    "\n",
    "run_info = [RunInfo({'subject': '01'}, 600, 2, 'dummy.nii.gz', 300)]\n",
    "print(run_info)\n",
    "\n",
    "var = SparseRunVariable(name='var', data=run, run_info=run_info, source='events')\n",
    "collection = BIDSRunVariableCollection([var])\n",
    "\n",
    "print(collection)"
   ]
  },
  {
   "cell_type": "markdown",
   "id": "a023d740",
   "metadata": {},
   "source": [
    "---\n",
    "\n",
    "## Factor\n",
    "\n",
    "```json\n",
    "{\"Instructions\":\n",
    " [\n",
    "     {\"Name\": \"Factor\",\n",
    "      \"Input\": \"sex\"}\n",
    " ]\n",
    "}\n",
    "```"
   ]
  },
  {
   "cell_type": "code",
   "execution_count": 7,
   "id": "1eaf805c",
   "metadata": {},
   "outputs": [],
   "source": [
    "from bids.modeling.transformations.munge import Factor"
   ]
  },
  {
   "cell_type": "code",
   "execution_count": 8,
   "id": "3e1472f2-b741-47a8-9e70-88c011f4895b",
   "metadata": {},
   "outputs": [
    {
     "data": {
      "text/plain": [
       "\u001b[0;31mInit signature:\u001b[0m \u001b[0mFactor\u001b[0m\u001b[0;34m(\u001b[0m\u001b[0mcollection\u001b[0m\u001b[0;34m,\u001b[0m \u001b[0mvariables\u001b[0m\u001b[0;34m,\u001b[0m \u001b[0;34m*\u001b[0m\u001b[0margs\u001b[0m\u001b[0;34m,\u001b[0m \u001b[0;34m**\u001b[0m\u001b[0mkwargs\u001b[0m\u001b[0;34m)\u001b[0m\u001b[0;34m\u001b[0m\u001b[0;34m\u001b[0m\u001b[0m\n",
       "\u001b[0;31mDocstring:\u001b[0m      <no docstring>\n",
       "\u001b[0;31mFile:\u001b[0m           ~/github/pybids/bids/modeling/transformations/munge.py\n",
       "\u001b[0;31mType:\u001b[0m           ABCMeta\n",
       "\u001b[0;31mSubclasses:\u001b[0m     \n"
      ]
     },
     "metadata": {},
     "output_type": "display_data"
    }
   ],
   "source": [
    "Factor?"
   ]
  },
  {
   "cell_type": "code",
   "execution_count": 9,
   "id": "d128dab4-63f0-40a5-8914-3d0a99b7edd8",
   "metadata": {},
   "outputs": [
    {
     "data": {
      "text/html": [
       "<div>\n",
       "<style scoped>\n",
       "    .dataframe tbody tr th:only-of-type {\n",
       "        vertical-align: middle;\n",
       "    }\n",
       "\n",
       "    .dataframe tbody tr th {\n",
       "        vertical-align: top;\n",
       "    }\n",
       "\n",
       "    .dataframe thead th {\n",
       "        text-align: right;\n",
       "    }\n",
       "</style>\n",
       "<table border=\"1\" class=\"dataframe\">\n",
       "  <thead>\n",
       "    <tr style=\"text-align: right;\">\n",
       "      <th></th>\n",
       "      <th>subject</th>\n",
       "      <th>age</th>\n",
       "      <th>sex.0</th>\n",
       "      <th>sex.1</th>\n",
       "      <th>suffix</th>\n",
       "    </tr>\n",
       "  </thead>\n",
       "  <tbody>\n",
       "    <tr>\n",
       "      <th>0</th>\n",
       "      <td>01</td>\n",
       "      <td>28.0</td>\n",
       "      <td>1.0</td>\n",
       "      <td>0.0</td>\n",
       "      <td>participants</td>\n",
       "    </tr>\n",
       "    <tr>\n",
       "      <th>1</th>\n",
       "      <td>02</td>\n",
       "      <td>21.0</td>\n",
       "      <td>0.0</td>\n",
       "      <td>1.0</td>\n",
       "      <td>participants</td>\n",
       "    </tr>\n",
       "    <tr>\n",
       "      <th>2</th>\n",
       "      <td>03</td>\n",
       "      <td>27.0</td>\n",
       "      <td>0.0</td>\n",
       "      <td>1.0</td>\n",
       "      <td>participants</td>\n",
       "    </tr>\n",
       "    <tr>\n",
       "      <th>3</th>\n",
       "      <td>04</td>\n",
       "      <td>25.0</td>\n",
       "      <td>1.0</td>\n",
       "      <td>0.0</td>\n",
       "      <td>participants</td>\n",
       "    </tr>\n",
       "    <tr>\n",
       "      <th>4</th>\n",
       "      <td>05</td>\n",
       "      <td>20.0</td>\n",
       "      <td>0.0</td>\n",
       "      <td>1.0</td>\n",
       "      <td>participants</td>\n",
       "    </tr>\n",
       "  </tbody>\n",
       "</table>\n",
       "</div>"
      ],
      "text/plain": [
       "  subject   age  sex.0  sex.1        suffix\n",
       "0      01  28.0    1.0    0.0  participants\n",
       "1      02  21.0    0.0    1.0  participants\n",
       "2      03  27.0    0.0    1.0  participants\n",
       "3      04  25.0    1.0    0.0  participants\n",
       "4      05  20.0    0.0    1.0  participants"
      ]
     },
     "execution_count": 9,
     "metadata": {},
     "output_type": "execute_result"
    }
   ],
   "source": [
    "layout_path = join(get_test_data_path(), 'ds005')\n",
    "layout = BIDSLayout(layout_path)\n",
    "c = layout.get_collections('dataset', merge=True)\n",
    "\n",
    "Factor(c, 'sex')\n",
    "\n",
    "c.to_df().head()"
   ]
  },
  {
   "cell_type": "markdown",
   "id": "963471f5-ec3f-470e-9a37-5ba6a1981e55",
   "metadata": {},
   "source": [
    "## Factor and product\n",
    "\n",
    "```json\n",
    "{\"Instructions\":\n",
    " [\n",
    "     {\"Name\": \"Factor\",\n",
    "      \"Input\": \"sex\"},\n",
    "     {\"Name\": \"Product\",\n",
    "      \"Input\": [\"sex.1\", \"age\"],\n",
    "      \"Output\": \"ageM\"},\n",
    "     {\"Name\": \"Product\",\n",
    "      \"Input\": [\"sex.0\", \"age\"],\n",
    "      \"Output\": \"ageF\"}\n",
    " ]\n",
    "}\n",
    "```"
   ]
  },
  {
   "cell_type": "code",
   "execution_count": 10,
   "id": "1f8a5b38-c07b-4e1c-a4ea-0465696c1a60",
   "metadata": {},
   "outputs": [],
   "source": [
    "from bids.modeling.transformations.compute import Product"
   ]
  },
  {
   "cell_type": "code",
   "execution_count": 11,
   "id": "a3476d0f-e565-4908-8c40-c1fc37ba59a7",
   "metadata": {},
   "outputs": [
    {
     "data": {
      "text/plain": [
       "\u001b[0;31mInit signature:\u001b[0m \u001b[0mProduct\u001b[0m\u001b[0;34m(\u001b[0m\u001b[0mcollection\u001b[0m\u001b[0;34m,\u001b[0m \u001b[0mvariables\u001b[0m\u001b[0;34m,\u001b[0m \u001b[0;34m*\u001b[0m\u001b[0margs\u001b[0m\u001b[0;34m,\u001b[0m \u001b[0;34m**\u001b[0m\u001b[0mkwargs\u001b[0m\u001b[0;34m)\u001b[0m\u001b[0;34m\u001b[0m\u001b[0;34m\u001b[0m\u001b[0m\n",
       "\u001b[0;31mDocstring:\u001b[0m      <no docstring>\n",
       "\u001b[0;31mFile:\u001b[0m           ~/github/pybids/bids/modeling/transformations/compute.py\n",
       "\u001b[0;31mType:\u001b[0m           ABCMeta\n",
       "\u001b[0;31mSubclasses:\u001b[0m     \n"
      ]
     },
     "metadata": {},
     "output_type": "display_data"
    }
   ],
   "source": [
    "Product?"
   ]
  },
  {
   "cell_type": "code",
   "execution_count": 12,
   "id": "316f507c-b444-4ed7-b4d7-dbbe5755794b",
   "metadata": {},
   "outputs": [
    {
     "data": {
      "text/html": [
       "<div>\n",
       "<style scoped>\n",
       "    .dataframe tbody tr th:only-of-type {\n",
       "        vertical-align: middle;\n",
       "    }\n",
       "\n",
       "    .dataframe tbody tr th {\n",
       "        vertical-align: top;\n",
       "    }\n",
       "\n",
       "    .dataframe thead th {\n",
       "        text-align: right;\n",
       "    }\n",
       "</style>\n",
       "<table border=\"1\" class=\"dataframe\">\n",
       "  <thead>\n",
       "    <tr style=\"text-align: right;\">\n",
       "      <th></th>\n",
       "      <th>subject</th>\n",
       "      <th>age</th>\n",
       "      <th>ageF</th>\n",
       "      <th>ageM</th>\n",
       "      <th>sex.0</th>\n",
       "      <th>sex.1</th>\n",
       "      <th>suffix</th>\n",
       "    </tr>\n",
       "  </thead>\n",
       "  <tbody>\n",
       "    <tr>\n",
       "      <th>0</th>\n",
       "      <td>01</td>\n",
       "      <td>28.0</td>\n",
       "      <td>28.0</td>\n",
       "      <td>0.0</td>\n",
       "      <td>1.0</td>\n",
       "      <td>0.0</td>\n",
       "      <td>participants</td>\n",
       "    </tr>\n",
       "    <tr>\n",
       "      <th>1</th>\n",
       "      <td>02</td>\n",
       "      <td>21.0</td>\n",
       "      <td>0.0</td>\n",
       "      <td>21.0</td>\n",
       "      <td>0.0</td>\n",
       "      <td>1.0</td>\n",
       "      <td>participants</td>\n",
       "    </tr>\n",
       "    <tr>\n",
       "      <th>2</th>\n",
       "      <td>03</td>\n",
       "      <td>27.0</td>\n",
       "      <td>0.0</td>\n",
       "      <td>27.0</td>\n",
       "      <td>0.0</td>\n",
       "      <td>1.0</td>\n",
       "      <td>participants</td>\n",
       "    </tr>\n",
       "    <tr>\n",
       "      <th>3</th>\n",
       "      <td>04</td>\n",
       "      <td>25.0</td>\n",
       "      <td>25.0</td>\n",
       "      <td>0.0</td>\n",
       "      <td>1.0</td>\n",
       "      <td>0.0</td>\n",
       "      <td>participants</td>\n",
       "    </tr>\n",
       "    <tr>\n",
       "      <th>4</th>\n",
       "      <td>05</td>\n",
       "      <td>20.0</td>\n",
       "      <td>0.0</td>\n",
       "      <td>20.0</td>\n",
       "      <td>0.0</td>\n",
       "      <td>1.0</td>\n",
       "      <td>participants</td>\n",
       "    </tr>\n",
       "  </tbody>\n",
       "</table>\n",
       "</div>"
      ],
      "text/plain": [
       "  subject   age  ageF  ageM  sex.0  sex.1        suffix\n",
       "0      01  28.0  28.0   0.0    1.0    0.0  participants\n",
       "1      02  21.0   0.0  21.0    0.0    1.0  participants\n",
       "2      03  27.0   0.0  27.0    0.0    1.0  participants\n",
       "3      04  25.0  25.0   0.0    1.0    0.0  participants\n",
       "4      05  20.0   0.0  20.0    0.0    1.0  participants"
      ]
     },
     "execution_count": 12,
     "metadata": {},
     "output_type": "execute_result"
    }
   ],
   "source": [
    "layout_path = join(get_test_data_path(), 'ds005')\n",
    "layout = BIDSLayout(layout_path)\n",
    "c = layout.get_collections('dataset', merge=True)\n",
    "\n",
    "Factor(c, 'sex')\n",
    "Product(c, [\"sex.1\", \"age\"], output=\"ageM\")\n",
    "Product(c, [\"sex.0\", \"age\"], output=\"ageF\")\n",
    "\n",
    "c.to_df().head()"
   ]
  },
  {
   "cell_type": "markdown",
   "id": "92a75e37-a42c-44f4-926e-7f818caa2952",
   "metadata": {},
   "source": [
    "## Threshold\n",
    "\n",
    "```json\n",
    "{\"Instructions\":\n",
    " [\n",
    "     {\"Name\": \"Threshold\",\n",
    "      \"Input\": \"age\",\n",
    "      \"Threshold\": 20,\n",
    "      \"binarize\": true,\n",
    "      \"Output\": \"age_gt_20\"}\n",
    " ]\n",
    "}\n",
    "```"
   ]
  },
  {
   "cell_type": "code",
   "execution_count": 13,
   "id": "0e45a4f0-ff43-425a-8333-95277639d5a7",
   "metadata": {
    "tags": []
   },
   "outputs": [],
   "source": [
    "from bids.modeling.transformations.compute import Threshold"
   ]
  },
  {
   "cell_type": "code",
   "execution_count": 14,
   "id": "633163f2-964d-44e0-a20d-3b13791e48fa",
   "metadata": {},
   "outputs": [
    {
     "data": {
      "text/plain": [
       "\u001b[0;31mInit signature:\u001b[0m \u001b[0mThreshold\u001b[0m\u001b[0;34m(\u001b[0m\u001b[0mcollection\u001b[0m\u001b[0;34m,\u001b[0m \u001b[0mvariables\u001b[0m\u001b[0;34m,\u001b[0m \u001b[0;34m*\u001b[0m\u001b[0margs\u001b[0m\u001b[0;34m,\u001b[0m \u001b[0;34m**\u001b[0m\u001b[0mkwargs\u001b[0m\u001b[0;34m)\u001b[0m\u001b[0;34m\u001b[0m\u001b[0;34m\u001b[0m\u001b[0m\n",
       "\u001b[0;31mDocstring:\u001b[0m     \n",
       "Threshold and/or binarize a variable.\n",
       "\n",
       "Parameters\n",
       "----------\n",
       "data :obj:`pandas.Series` or :obj:`pandas.DataFrame`\n",
       "    The pandas structure to threshold.\n",
       "threshold : float\n",
       "    The value to binarize around (values above will\n",
       "    be assigned 1, values below will be assigned 0).\n",
       "binarize : bool\n",
       "    If True, binarizes all non-zero values (i.e., every\n",
       "    non-zero value will be set to 1).\n",
       "above : bool\n",
       "    Specifies which values to retain with respect to the\n",
       "    cut-off. If True, all value above the threshold will be kept; if\n",
       "    False, all values below the threshold will be kept. Defaults to\n",
       "    True.\n",
       "signed : bool\n",
       "    Specifies whether to treat the threshold as signed\n",
       "    (default) or unsigned. For example, when passing above=True and\n",
       "    threshold=3, if signed=True, all and only values above +3 would be\n",
       "    retained. If signed=False, all absolute values > 3 would be retained\n",
       "    (i.e.,values in  the range -3 < X < 3 would be set to 0).\n",
       "\u001b[0;31mFile:\u001b[0m           ~/github/pybids/bids/modeling/transformations/compute.py\n",
       "\u001b[0;31mType:\u001b[0m           ABCMeta\n",
       "\u001b[0;31mSubclasses:\u001b[0m     \n"
      ]
     },
     "metadata": {},
     "output_type": "display_data"
    }
   ],
   "source": [
    "Threshold?"
   ]
  },
  {
   "cell_type": "markdown",
   "id": "eaa2d644-a5be-4fe3-b4b5-020555717284",
   "metadata": {},
   "source": [
    "If “Binarize” is False (default) it zeros values below threshold.  Can also add “Above”: true if you want to reverse the threshsold. "
   ]
  },
  {
   "cell_type": "code",
   "execution_count": 15,
   "id": "750480d2-ab4e-44ec-a638-5cffd126c676",
   "metadata": {},
   "outputs": [
    {
     "data": {
      "text/html": [
       "<div>\n",
       "<style scoped>\n",
       "    .dataframe tbody tr th:only-of-type {\n",
       "        vertical-align: middle;\n",
       "    }\n",
       "\n",
       "    .dataframe tbody tr th {\n",
       "        vertical-align: top;\n",
       "    }\n",
       "\n",
       "    .dataframe thead th {\n",
       "        text-align: right;\n",
       "    }\n",
       "</style>\n",
       "<table border=\"1\" class=\"dataframe\">\n",
       "  <thead>\n",
       "    <tr style=\"text-align: right;\">\n",
       "      <th></th>\n",
       "      <th>subject</th>\n",
       "      <th>age</th>\n",
       "      <th>age_gt_20</th>\n",
       "      <th>sex</th>\n",
       "      <th>suffix</th>\n",
       "    </tr>\n",
       "  </thead>\n",
       "  <tbody>\n",
       "    <tr>\n",
       "      <th>0</th>\n",
       "      <td>01</td>\n",
       "      <td>28</td>\n",
       "      <td>1</td>\n",
       "      <td>0</td>\n",
       "      <td>participants</td>\n",
       "    </tr>\n",
       "    <tr>\n",
       "      <th>1</th>\n",
       "      <td>02</td>\n",
       "      <td>21</td>\n",
       "      <td>1</td>\n",
       "      <td>1</td>\n",
       "      <td>participants</td>\n",
       "    </tr>\n",
       "    <tr>\n",
       "      <th>2</th>\n",
       "      <td>03</td>\n",
       "      <td>27</td>\n",
       "      <td>1</td>\n",
       "      <td>1</td>\n",
       "      <td>participants</td>\n",
       "    </tr>\n",
       "    <tr>\n",
       "      <th>3</th>\n",
       "      <td>04</td>\n",
       "      <td>25</td>\n",
       "      <td>1</td>\n",
       "      <td>0</td>\n",
       "      <td>participants</td>\n",
       "    </tr>\n",
       "    <tr>\n",
       "      <th>4</th>\n",
       "      <td>05</td>\n",
       "      <td>20</td>\n",
       "      <td>1</td>\n",
       "      <td>1</td>\n",
       "      <td>participants</td>\n",
       "    </tr>\n",
       "  </tbody>\n",
       "</table>\n",
       "</div>"
      ],
      "text/plain": [
       "  subject  age  age_gt_20  sex        suffix\n",
       "0      01   28          1    0  participants\n",
       "1      02   21          1    1  participants\n",
       "2      03   27          1    1  participants\n",
       "3      04   25          1    0  participants\n",
       "4      05   20          1    1  participants"
      ]
     },
     "execution_count": 15,
     "metadata": {},
     "output_type": "execute_result"
    }
   ],
   "source": [
    "layout_path = join(get_test_data_path(), 'ds005')\n",
    "layout = BIDSLayout(layout_path)\n",
    "c = layout.get_collections('dataset', merge=True)\n",
    "\n",
    "Threshold(c, \"age\", threshold=20, binarize=True, output=\"age_gt_20\")\n",
    "\n",
    "c.to_df().head()"
   ]
  },
  {
   "cell_type": "markdown",
   "id": "22672d8a-a175-402e-a80a-9fcb3f277588",
   "metadata": {},
   "source": [
    "## Scale\n",
    "\n",
    "```json\n",
    "{\"Instructions\":\n",
    " [\n",
    "     {\"Name\": \"Scale\",\n",
    "      \"Input\": \"age\",\n",
    "      \"Output\": \"age_centered_scaled\"},\n",
    "     {\"Name\": \"Scale\",\n",
    "      \"Input\": \"age\",\n",
    "      \"Demean\": true,\n",
    "      \"Rescale\": false,\n",
    "      \"Output\": \"age_centered_not_scaled\"},\n",
    " ]\n",
    "}\n",
    "```"
   ]
  },
  {
   "cell_type": "code",
   "execution_count": 16,
   "id": "4c8281f9-3d8a-4b1d-95c9-6c374d786508",
   "metadata": {
    "tags": []
   },
   "outputs": [],
   "source": [
    "from bids.modeling.transformations.compute import Scale"
   ]
  },
  {
   "cell_type": "code",
   "execution_count": 17,
   "id": "de10e2ed-2559-4e2e-a38b-09aa471a34b0",
   "metadata": {
    "tags": []
   },
   "outputs": [
    {
     "data": {
      "text/plain": [
       "\u001b[0;31mInit signature:\u001b[0m \u001b[0mScale\u001b[0m\u001b[0;34m(\u001b[0m\u001b[0mcollection\u001b[0m\u001b[0;34m,\u001b[0m \u001b[0mvariables\u001b[0m\u001b[0;34m,\u001b[0m \u001b[0;34m*\u001b[0m\u001b[0margs\u001b[0m\u001b[0;34m,\u001b[0m \u001b[0;34m**\u001b[0m\u001b[0mkwargs\u001b[0m\u001b[0;34m)\u001b[0m\u001b[0;34m\u001b[0m\u001b[0;34m\u001b[0m\u001b[0m\n",
       "\u001b[0;31mDocstring:\u001b[0m     \n",
       "Scale a variable.\n",
       "\n",
       "Parameters\n",
       "----------\n",
       "data : :obj:`pandas.Series` or :obj:`pandas.DataFrame`\n",
       "    The variables to scale.\n",
       "demean : bool\n",
       "    If True, demean each column.\n",
       "rescale : bool\n",
       "    If True, divide variables by their standard deviation.\n",
       "replace_na : str\n",
       "    Whether/when to replace missing values with 0. If\n",
       "    None, no replacement is performed. If 'before', missing values are\n",
       "    replaced with 0's before scaling. If 'after', missing values are\n",
       "    replaced with 0 after scaling.\n",
       "\n",
       "Notes\n",
       "-----\n",
       "If a constant column is passed in, and replace_na is None or 'before', an\n",
       "exception will be raised.\n",
       "\u001b[0;31mFile:\u001b[0m           ~/github/pybids/bids/modeling/transformations/compute.py\n",
       "\u001b[0;31mType:\u001b[0m           ABCMeta\n",
       "\u001b[0;31mSubclasses:\u001b[0m     \n"
      ]
     },
     "metadata": {},
     "output_type": "display_data"
    }
   ],
   "source": [
    "Scale?"
   ]
  },
  {
   "cell_type": "code",
   "execution_count": 18,
   "id": "e2a51da7-8bfa-4285-ab91-699e8abd23da",
   "metadata": {},
   "outputs": [
    {
     "data": {
      "text/html": [
       "<div>\n",
       "<style scoped>\n",
       "    .dataframe tbody tr th:only-of-type {\n",
       "        vertical-align: middle;\n",
       "    }\n",
       "\n",
       "    .dataframe tbody tr th {\n",
       "        vertical-align: top;\n",
       "    }\n",
       "\n",
       "    .dataframe thead th {\n",
       "        text-align: right;\n",
       "    }\n",
       "</style>\n",
       "<table border=\"1\" class=\"dataframe\">\n",
       "  <thead>\n",
       "    <tr style=\"text-align: right;\">\n",
       "      <th></th>\n",
       "      <th>subject</th>\n",
       "      <th>age</th>\n",
       "      <th>age_centered_not_scaled</th>\n",
       "      <th>age_centered_scaled</th>\n",
       "      <th>sex</th>\n",
       "      <th>suffix</th>\n",
       "    </tr>\n",
       "  </thead>\n",
       "  <tbody>\n",
       "    <tr>\n",
       "      <th>0</th>\n",
       "      <td>01</td>\n",
       "      <td>28.0</td>\n",
       "      <td>5.9375</td>\n",
       "      <td>2.073992</td>\n",
       "      <td>0.0</td>\n",
       "      <td>participants</td>\n",
       "    </tr>\n",
       "    <tr>\n",
       "      <th>1</th>\n",
       "      <td>02</td>\n",
       "      <td>21.0</td>\n",
       "      <td>-1.0625</td>\n",
       "      <td>-0.371135</td>\n",
       "      <td>1.0</td>\n",
       "      <td>participants</td>\n",
       "    </tr>\n",
       "    <tr>\n",
       "      <th>2</th>\n",
       "      <td>03</td>\n",
       "      <td>27.0</td>\n",
       "      <td>4.9375</td>\n",
       "      <td>1.724688</td>\n",
       "      <td>1.0</td>\n",
       "      <td>participants</td>\n",
       "    </tr>\n",
       "    <tr>\n",
       "      <th>3</th>\n",
       "      <td>04</td>\n",
       "      <td>25.0</td>\n",
       "      <td>2.9375</td>\n",
       "      <td>1.026080</td>\n",
       "      <td>0.0</td>\n",
       "      <td>participants</td>\n",
       "    </tr>\n",
       "    <tr>\n",
       "      <th>4</th>\n",
       "      <td>05</td>\n",
       "      <td>20.0</td>\n",
       "      <td>-2.0625</td>\n",
       "      <td>-0.720439</td>\n",
       "      <td>1.0</td>\n",
       "      <td>participants</td>\n",
       "    </tr>\n",
       "  </tbody>\n",
       "</table>\n",
       "</div>"
      ],
      "text/plain": [
       "  subject   age  age_centered_not_scaled  age_centered_scaled  sex  \\\n",
       "0      01  28.0                   5.9375             2.073992  0.0   \n",
       "1      02  21.0                  -1.0625            -0.371135  1.0   \n",
       "2      03  27.0                   4.9375             1.724688  1.0   \n",
       "3      04  25.0                   2.9375             1.026080  0.0   \n",
       "4      05  20.0                  -2.0625            -0.720439  1.0   \n",
       "\n",
       "         suffix  \n",
       "0  participants  \n",
       "1  participants  \n",
       "2  participants  \n",
       "3  participants  \n",
       "4  participants  "
      ]
     },
     "execution_count": 18,
     "metadata": {},
     "output_type": "execute_result"
    }
   ],
   "source": [
    "layout_path = join(get_test_data_path(), 'ds005')\n",
    "layout = BIDSLayout(layout_path)\n",
    "c = layout.get_collections('dataset', merge=True)\n",
    "\n",
    "Scale(c, \"age\", output=\"age_centered_scaled\")\n",
    "Scale(c, \"age\", demean=True, rescale=False, output=\"age_centered_not_scaled\")\n",
    "\n",
    "c.to_df().head()"
   ]
  },
  {
   "cell_type": "markdown",
   "id": "16b5c7f1-e997-43fa-b44a-c304d97d07b8",
   "metadata": {},
   "source": [
    "## And / Or / Not\n",
    "\n",
    "```json\n",
    "{\"Instructions\":\n",
    " [\n",
    "     {\"Name\": \"Factor\",\n",
    "      \"Input\": \"sex\"},\n",
    "     {\"Name\": \"Threshold\",\n",
    "      \"Input\": \"age\",\n",
    "      \"Threshold\": 20,\n",
    "      \"binarize\": true,\n",
    "      \"Output\": \"age_gt_20\"}\n",
    " ]\n",
    "}\n",
    "```\n"
   ]
  },
  {
   "cell_type": "code",
   "execution_count": 19,
   "id": "8f26c34c-9995-4809-8e6e-cfd8ba6090d1",
   "metadata": {},
   "outputs": [],
   "source": [
    "from bids.modeling.transformations.compute import And_\n",
    "from bids.modeling.transformations.compute import Or_\n",
    "from bids.modeling.transformations.compute import Not"
   ]
  },
  {
   "cell_type": "code",
   "execution_count": 20,
   "id": "10ea93f3-5256-4a64-9e92-1d9c23ad3ace",
   "metadata": {},
   "outputs": [
    {
     "data": {
      "text/plain": [
       "\u001b[0;31mInit signature:\u001b[0m \u001b[0mAnd_\u001b[0m\u001b[0;34m(\u001b[0m\u001b[0mcollection\u001b[0m\u001b[0;34m,\u001b[0m \u001b[0mvariables\u001b[0m\u001b[0;34m,\u001b[0m \u001b[0;34m*\u001b[0m\u001b[0margs\u001b[0m\u001b[0;34m,\u001b[0m \u001b[0;34m**\u001b[0m\u001b[0mkwargs\u001b[0m\u001b[0;34m)\u001b[0m\u001b[0;34m\u001b[0m\u001b[0;34m\u001b[0m\u001b[0m\n",
       "\u001b[0;31mDocstring:\u001b[0m     \n",
       "Logical AND on two or more variables.\n",
       "\n",
       "Parameters\n",
       "----------\n",
       "dfs : list of :obj:`pandas.DataFrame`\n",
       "    variables to enter into the conjunction.\n",
       "\u001b[0;31mFile:\u001b[0m           ~/github/pybids/bids/modeling/transformations/compute.py\n",
       "\u001b[0;31mType:\u001b[0m           ABCMeta\n",
       "\u001b[0;31mSubclasses:\u001b[0m     \n"
      ]
     },
     "metadata": {},
     "output_type": "display_data"
    }
   ],
   "source": [
    "And_?"
   ]
  },
  {
   "cell_type": "code",
   "execution_count": 21,
   "id": "bca9c1bd-5230-4ca5-a4da-5afaed0d4cbc",
   "metadata": {
    "tags": []
   },
   "outputs": [
    {
     "data": {
      "text/html": [
       "<div>\n",
       "<style scoped>\n",
       "    .dataframe tbody tr th:only-of-type {\n",
       "        vertical-align: middle;\n",
       "    }\n",
       "\n",
       "    .dataframe tbody tr th {\n",
       "        vertical-align: top;\n",
       "    }\n",
       "\n",
       "    .dataframe thead th {\n",
       "        text-align: right;\n",
       "    }\n",
       "</style>\n",
       "<table border=\"1\" class=\"dataframe\">\n",
       "  <thead>\n",
       "    <tr style=\"text-align: right;\">\n",
       "      <th></th>\n",
       "      <th>subject</th>\n",
       "      <th>age</th>\n",
       "      <th>age_gt_20</th>\n",
       "      <th>men_older_than_20</th>\n",
       "      <th>sex.0</th>\n",
       "      <th>sex.1</th>\n",
       "      <th>suffix</th>\n",
       "    </tr>\n",
       "  </thead>\n",
       "  <tbody>\n",
       "    <tr>\n",
       "      <th>0</th>\n",
       "      <td>01</td>\n",
       "      <td>28.0</td>\n",
       "      <td>1.0</td>\n",
       "      <td>0.0</td>\n",
       "      <td>1.0</td>\n",
       "      <td>0.0</td>\n",
       "      <td>participants</td>\n",
       "    </tr>\n",
       "    <tr>\n",
       "      <th>1</th>\n",
       "      <td>02</td>\n",
       "      <td>21.0</td>\n",
       "      <td>1.0</td>\n",
       "      <td>1.0</td>\n",
       "      <td>0.0</td>\n",
       "      <td>1.0</td>\n",
       "      <td>participants</td>\n",
       "    </tr>\n",
       "    <tr>\n",
       "      <th>2</th>\n",
       "      <td>03</td>\n",
       "      <td>27.0</td>\n",
       "      <td>1.0</td>\n",
       "      <td>1.0</td>\n",
       "      <td>0.0</td>\n",
       "      <td>1.0</td>\n",
       "      <td>participants</td>\n",
       "    </tr>\n",
       "    <tr>\n",
       "      <th>3</th>\n",
       "      <td>04</td>\n",
       "      <td>25.0</td>\n",
       "      <td>1.0</td>\n",
       "      <td>0.0</td>\n",
       "      <td>1.0</td>\n",
       "      <td>0.0</td>\n",
       "      <td>participants</td>\n",
       "    </tr>\n",
       "    <tr>\n",
       "      <th>4</th>\n",
       "      <td>05</td>\n",
       "      <td>20.0</td>\n",
       "      <td>1.0</td>\n",
       "      <td>1.0</td>\n",
       "      <td>0.0</td>\n",
       "      <td>1.0</td>\n",
       "      <td>participants</td>\n",
       "    </tr>\n",
       "  </tbody>\n",
       "</table>\n",
       "</div>"
      ],
      "text/plain": [
       "  subject   age  age_gt_20  men_older_than_20  sex.0  sex.1        suffix\n",
       "0      01  28.0        1.0                0.0    1.0    0.0  participants\n",
       "1      02  21.0        1.0                1.0    0.0    1.0  participants\n",
       "2      03  27.0        1.0                1.0    0.0    1.0  participants\n",
       "3      04  25.0        1.0                0.0    1.0    0.0  participants\n",
       "4      05  20.0        1.0                1.0    0.0    1.0  participants"
      ]
     },
     "execution_count": 21,
     "metadata": {},
     "output_type": "execute_result"
    }
   ],
   "source": [
    "layout_path = join(get_test_data_path(), 'ds005')\n",
    "layout = BIDSLayout(layout_path)\n",
    "c = layout.get_collections('dataset', merge=True)\n",
    "\n",
    "Factor(c, 'sex')\n",
    "Threshold(c, \"age\", threshold=20, binarize=True, output=\"age_gt_20\")\n",
    "\n",
    "And_(c, [\"sex.1\", \"age_gt_20\"], output=\"men_older_than_20\")\n",
    "\n",
    "c.to_df().head()"
   ]
  },
  {
   "cell_type": "markdown",
   "id": "56eee712-fd0f-4948-91c2-0654ff16cbb1",
   "metadata": {},
   "source": [
    "## Generating BIDS stats models"
   ]
  },
  {
   "cell_type": "code",
   "execution_count": 22,
   "id": "2d2e322b-9cf6-4bad-bb20-90b2a48c030f",
   "metadata": {},
   "outputs": [],
   "source": [
    "from bids.modeling import auto_model\n",
    "import json\n",
    "\n",
    "layout_path = join(get_test_data_path(), 'ds005')\n",
    "layout = BIDSLayout(layout_path)\n",
    "\n",
    "# because the test datasets of pybids have no images \n",
    "# we need to give it a dummy scan_length for this to run\n",
    "model = auto_model(layout, scan_length=600, one_vs_rest=True)\n",
    "\n",
    "with open(\"model-ds005_smdl.json\", \"w\") as outfile:\n",
    "    json.dump(model[0], outfile)"
   ]
  },
  {
   "cell_type": "code",
   "execution_count": 23,
   "id": "e2d9ba9f-5cfa-4936-9f33-54603f99ebfe",
   "metadata": {},
   "outputs": [
    {
     "name": "stdout",
     "output_type": "stream",
     "text": [
      "{\"Name\": \"ds005_mixedgamblestask\", \"Description\": \"Autogenerated model for the mixedgamblestask task from ds005\", \"Input\": {\"Task\": \"mixedgamblestask\"}, \"Nodes\": [{\"Level\": \"Run\", \"Name\": \"Run\", \"Transformations\": [{\"Name\": \"Factor\", \"Input\": [\"trial_type\"]}, {\"Name\": \"Convolve\", \"Input\": [\"trial_type.parametric gain\"]}], \"Model\": {\"X\": [\"trial_type.parametric gain\"]}, \"Contrasts\": [{\"Name\": \"run_parametric gain\", \"ConditionList\": [\"trial_type.parametric gain\"], \"Weights\": [1.0], \"Test\": \"t\"}]}, {\"Level\": \"Subject\", \"Name\": \"Subject\", \"Model\": {\"X\": [\"run_parametric gain\"]}, \"Contrasts\": [{\"Name\": \"subject_run_parametric gain\", \"ConditionList\": [\"run_parametric gain\"], \"Weights\": [1], \"Test\": \"FEMA\"}]}, {\"Level\": \"Dataset\", \"Name\": \"Dataset\", \"Model\": {\"X\": [\"subject_run_parametric gain\"]}, \"Contrasts\": [{\"Name\": \"dataset_subject_run_parametric gain\", \"ConditionList\": [\"subject_run_parametric gain\"], \"Weights\": [1], \"Test\": \"t\"}]}]}"
     ]
    }
   ],
   "source": [
    "!cat model-ds005_smdl.json"
   ]
  }
 ],
 "metadata": {
  "kernelspec": {
   "display_name": "Python 3",
   "language": "python",
   "name": "python3"
  },
  "language_info": {
   "codemirror_mode": {
    "name": "ipython",
    "version": 3
   },
   "file_extension": ".py",
   "mimetype": "text/x-python",
   "name": "python",
   "nbconvert_exporter": "python",
   "pygments_lexer": "ipython3",
   "version": "3.9.12"
  }
 },
 "nbformat": 4,
 "nbformat_minor": 5
}
